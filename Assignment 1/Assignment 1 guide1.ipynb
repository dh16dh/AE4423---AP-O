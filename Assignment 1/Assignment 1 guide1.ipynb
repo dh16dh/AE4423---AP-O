{
 "cells": [
  {
   "cell_type": "markdown",
   "metadata": {
    "id": "ZWdrtVCJLIwc"
   },
   "source": [
    "# **Airline Planning and Operations**\n",
    "## **Assignment 1**"
   ]
  },
  {
   "cell_type": "markdown",
   "metadata": {},
   "source": [
    "In this notebook, the data files needed to solve the questions in the assignment are imported and explained. At the end, an example of using Gurobi to solve a very simple network model is given."
   ]
  },
  {
   "cell_type": "markdown",
   "metadata": {},
   "source": [
    "***"
   ]
  },
  {
   "cell_type": "markdown",
   "metadata": {
    "id": "G5RBlMTup9kR"
   },
   "source": [
    "## Set-up\n",
    "The MILP problems of the assignment can be solved using Gurobi. An introduction to Gurobi can be found [here](https://www.gurobi.com/resource/mathematical-programming-tutorial-linear-programming/). To use Gurobi, you need to obtain the [Academic License](https://www.gurobi.com/features/academic-named-user-license/)."
   ]
  },
  {
   "cell_type": "markdown",
   "metadata": {
    "id": "w0J5owrOOEgn"
   },
   "source": [
    "Now, we will import more Python packages that will be used in the model."
   ]
  },
  {
   "cell_type": "code",
   "execution_count": 41,
   "metadata": {
    "id": "E3tU1xkRp5OM"
   },
   "outputs": [],
   "source": [
    "from gurobipy import *\n",
    "import numpy as np\n",
    "import pandas as pd\n",
    "import math\n",
    "import plotly.graph_objects as go"
   ]
  },
  {
   "cell_type": "markdown",
   "metadata": {
    "id": "CMYiHTdXXk2T"
   },
   "source": [
    "In the cell below you can fill in your group number in order to read the data files."
   ]
  },
  {
   "cell_type": "code",
   "execution_count": 42,
   "metadata": {
    "cellView": "form",
    "id": "5brCBMKDfeyk"
   },
   "outputs": [],
   "source": [
    "group = 1 # Fill in your group number here"
   ]
  },
  {
   "cell_type": "markdown",
   "metadata": {},
   "source": [
    "---"
   ]
  },
  {
   "cell_type": "markdown",
   "metadata": {
    "id": "CbhYnTdmOwHw"
   },
   "source": [
    "## Introduction to the data\n",
    "The code below reads the data files of your group. The airports in your network can be found on the map and the table below. Make sure that the folder containing the data files is located in the working directory of this notebook.\n"
   ]
  },
  {
   "cell_type": "code",
   "execution_count": 43,
   "metadata": {
    "colab": {
     "base_uri": "https://localhost:8080/",
     "height": 940
    },
    "id": "VK3UnHO06Het",
    "outputId": "efd400ec-bf61-4d9f-b5e8-289246e68a61"
   },
   "outputs": [
    {
     "name": "stdout",
     "output_type": "stream",
     "text": [
      "The hub of your network is LIMC\n"
     ]
    }
   ],
   "source": [
    "airport_data = pd.read_csv('Group_'+str(group)+'_Airport_info.csv',  encoding = 'unicode_escape',index_col=1)\n",
    "demand_data = pd.read_csv('Group_'+str(group)+'_Demand.csv', encoding = 'unicode_escape',index_col=0)\n",
    "distance_data = pd.read_csv('Group_'+str(group)+'_Distances.csv', encoding = 'unicode_escape',index_col=0)\n",
    "aircraft_data = pd.read_csv('Aircraft_info.csv', encoding = 'unicode_escape')\n",
    "annual_growth_csv = pd.read_csv('Group_'+str(group)+'_Annual_growth.csv', encoding = 'unicode_escape', header=None)\n",
    "annual_growth = annual_growth_csv[0][0]\n",
    "airports = airport_data.index\n",
    "hub = airports[0]\n",
    "print('The hub of your network is', hub)"
   ]
  },
  {
   "cell_type": "code",
   "execution_count": 44,
   "metadata": {},
   "outputs": [
    {
     "data": {
      "application/vnd.plotly.v1+json": {
       "config": {
        "plotlyServerURL": "https://plot.ly"
       },
       "data": [
        {
         "type": "scattergeo"
        },
        {
         "lat": [
          45.626396,
          38.1824,
          45.200499198,
          39.2515388,
          43.808653,
          45.5032,
          40.916668,
          44.414165,
          42.461788,
          45.395699,
          38.906585,
          37.4673,
          40.884,
          44.535442,
          43.616943
         ],
         "line": {
          "color": "blue"
         },
         "lon": [
          8.712519,
          13.100582,
          7.643164094,
          9.0556723,
          11.201225,
          12.3512,
          9.5,
          8.942184,
          14.21609,
          10.8885,
          16.243402,
          15.0658,
          14.2878,
          11.288667,
          13.516667
         ],
         "text": [
          "LIMC",
          "LICJ",
          "LIMF",
          "LIEE",
          "LIRQ",
          "LIPZ",
          "LIEO",
          "LIMJ",
          "LIBP",
          "LIPX",
          "LICA",
          "LICC",
          "LIRN",
          "LIPE",
          "LIPY"
         ],
         "type": "scattergeo"
        },
        {
         "lat": [
          45.626396
         ],
         "line": {
          "color": "red"
         },
         "lon": [
          8.712519
         ],
         "text": [
          "LIMC",
          "LICJ",
          "LIMF",
          "LIEE",
          "LIRQ",
          "LIPZ",
          "LIEO",
          "LIMJ",
          "LIBP",
          "LIPX",
          "LICA",
          "LICC",
          "LIRN",
          "LIPE",
          "LIPY"
         ],
         "type": "scattergeo"
        }
       ],
       "layout": {
        "autosize": true,
        "geo": {
         "lataxis": {
          "dtick": 3,
          "range": [
           36,
           48
          ],
          "showgrid": true
         },
         "lonaxis": {
          "dtick": 3,
          "range": [
           6,
           20
          ],
          "showgrid": true
         },
         "resolution": 50
        },
        "showlegend": false,
        "template": {
         "data": {
          "bar": [
           {
            "error_x": {
             "color": "#2a3f5f"
            },
            "error_y": {
             "color": "#2a3f5f"
            },
            "marker": {
             "line": {
              "color": "#E5ECF6",
              "width": 0.5
             },
             "pattern": {
              "fillmode": "overlay",
              "size": 10,
              "solidity": 0.2
             }
            },
            "type": "bar"
           }
          ],
          "barpolar": [
           {
            "marker": {
             "line": {
              "color": "#E5ECF6",
              "width": 0.5
             },
             "pattern": {
              "fillmode": "overlay",
              "size": 10,
              "solidity": 0.2
             }
            },
            "type": "barpolar"
           }
          ],
          "carpet": [
           {
            "aaxis": {
             "endlinecolor": "#2a3f5f",
             "gridcolor": "white",
             "linecolor": "white",
             "minorgridcolor": "white",
             "startlinecolor": "#2a3f5f"
            },
            "baxis": {
             "endlinecolor": "#2a3f5f",
             "gridcolor": "white",
             "linecolor": "white",
             "minorgridcolor": "white",
             "startlinecolor": "#2a3f5f"
            },
            "type": "carpet"
           }
          ],
          "choropleth": [
           {
            "colorbar": {
             "outlinewidth": 0,
             "ticks": ""
            },
            "type": "choropleth"
           }
          ],
          "contour": [
           {
            "colorbar": {
             "outlinewidth": 0,
             "ticks": ""
            },
            "colorscale": [
             [
              0,
              "#0d0887"
             ],
             [
              0.1111111111111111,
              "#46039f"
             ],
             [
              0.2222222222222222,
              "#7201a8"
             ],
             [
              0.3333333333333333,
              "#9c179e"
             ],
             [
              0.4444444444444444,
              "#bd3786"
             ],
             [
              0.5555555555555556,
              "#d8576b"
             ],
             [
              0.6666666666666666,
              "#ed7953"
             ],
             [
              0.7777777777777778,
              "#fb9f3a"
             ],
             [
              0.8888888888888888,
              "#fdca26"
             ],
             [
              1,
              "#f0f921"
             ]
            ],
            "type": "contour"
           }
          ],
          "contourcarpet": [
           {
            "colorbar": {
             "outlinewidth": 0,
             "ticks": ""
            },
            "type": "contourcarpet"
           }
          ],
          "heatmap": [
           {
            "colorbar": {
             "outlinewidth": 0,
             "ticks": ""
            },
            "colorscale": [
             [
              0,
              "#0d0887"
             ],
             [
              0.1111111111111111,
              "#46039f"
             ],
             [
              0.2222222222222222,
              "#7201a8"
             ],
             [
              0.3333333333333333,
              "#9c179e"
             ],
             [
              0.4444444444444444,
              "#bd3786"
             ],
             [
              0.5555555555555556,
              "#d8576b"
             ],
             [
              0.6666666666666666,
              "#ed7953"
             ],
             [
              0.7777777777777778,
              "#fb9f3a"
             ],
             [
              0.8888888888888888,
              "#fdca26"
             ],
             [
              1,
              "#f0f921"
             ]
            ],
            "type": "heatmap"
           }
          ],
          "heatmapgl": [
           {
            "colorbar": {
             "outlinewidth": 0,
             "ticks": ""
            },
            "colorscale": [
             [
              0,
              "#0d0887"
             ],
             [
              0.1111111111111111,
              "#46039f"
             ],
             [
              0.2222222222222222,
              "#7201a8"
             ],
             [
              0.3333333333333333,
              "#9c179e"
             ],
             [
              0.4444444444444444,
              "#bd3786"
             ],
             [
              0.5555555555555556,
              "#d8576b"
             ],
             [
              0.6666666666666666,
              "#ed7953"
             ],
             [
              0.7777777777777778,
              "#fb9f3a"
             ],
             [
              0.8888888888888888,
              "#fdca26"
             ],
             [
              1,
              "#f0f921"
             ]
            ],
            "type": "heatmapgl"
           }
          ],
          "histogram": [
           {
            "marker": {
             "pattern": {
              "fillmode": "overlay",
              "size": 10,
              "solidity": 0.2
             }
            },
            "type": "histogram"
           }
          ],
          "histogram2d": [
           {
            "colorbar": {
             "outlinewidth": 0,
             "ticks": ""
            },
            "colorscale": [
             [
              0,
              "#0d0887"
             ],
             [
              0.1111111111111111,
              "#46039f"
             ],
             [
              0.2222222222222222,
              "#7201a8"
             ],
             [
              0.3333333333333333,
              "#9c179e"
             ],
             [
              0.4444444444444444,
              "#bd3786"
             ],
             [
              0.5555555555555556,
              "#d8576b"
             ],
             [
              0.6666666666666666,
              "#ed7953"
             ],
             [
              0.7777777777777778,
              "#fb9f3a"
             ],
             [
              0.8888888888888888,
              "#fdca26"
             ],
             [
              1,
              "#f0f921"
             ]
            ],
            "type": "histogram2d"
           }
          ],
          "histogram2dcontour": [
           {
            "colorbar": {
             "outlinewidth": 0,
             "ticks": ""
            },
            "colorscale": [
             [
              0,
              "#0d0887"
             ],
             [
              0.1111111111111111,
              "#46039f"
             ],
             [
              0.2222222222222222,
              "#7201a8"
             ],
             [
              0.3333333333333333,
              "#9c179e"
             ],
             [
              0.4444444444444444,
              "#bd3786"
             ],
             [
              0.5555555555555556,
              "#d8576b"
             ],
             [
              0.6666666666666666,
              "#ed7953"
             ],
             [
              0.7777777777777778,
              "#fb9f3a"
             ],
             [
              0.8888888888888888,
              "#fdca26"
             ],
             [
              1,
              "#f0f921"
             ]
            ],
            "type": "histogram2dcontour"
           }
          ],
          "mesh3d": [
           {
            "colorbar": {
             "outlinewidth": 0,
             "ticks": ""
            },
            "type": "mesh3d"
           }
          ],
          "parcoords": [
           {
            "line": {
             "colorbar": {
              "outlinewidth": 0,
              "ticks": ""
             }
            },
            "type": "parcoords"
           }
          ],
          "pie": [
           {
            "automargin": true,
            "type": "pie"
           }
          ],
          "scatter": [
           {
            "fillpattern": {
             "fillmode": "overlay",
             "size": 10,
             "solidity": 0.2
            },
            "type": "scatter"
           }
          ],
          "scatter3d": [
           {
            "line": {
             "colorbar": {
              "outlinewidth": 0,
              "ticks": ""
             }
            },
            "marker": {
             "colorbar": {
              "outlinewidth": 0,
              "ticks": ""
             }
            },
            "type": "scatter3d"
           }
          ],
          "scattercarpet": [
           {
            "marker": {
             "colorbar": {
              "outlinewidth": 0,
              "ticks": ""
             }
            },
            "type": "scattercarpet"
           }
          ],
          "scattergeo": [
           {
            "marker": {
             "colorbar": {
              "outlinewidth": 0,
              "ticks": ""
             }
            },
            "type": "scattergeo"
           }
          ],
          "scattergl": [
           {
            "marker": {
             "colorbar": {
              "outlinewidth": 0,
              "ticks": ""
             }
            },
            "type": "scattergl"
           }
          ],
          "scattermapbox": [
           {
            "marker": {
             "colorbar": {
              "outlinewidth": 0,
              "ticks": ""
             }
            },
            "type": "scattermapbox"
           }
          ],
          "scatterpolar": [
           {
            "marker": {
             "colorbar": {
              "outlinewidth": 0,
              "ticks": ""
             }
            },
            "type": "scatterpolar"
           }
          ],
          "scatterpolargl": [
           {
            "marker": {
             "colorbar": {
              "outlinewidth": 0,
              "ticks": ""
             }
            },
            "type": "scatterpolargl"
           }
          ],
          "scatterternary": [
           {
            "marker": {
             "colorbar": {
              "outlinewidth": 0,
              "ticks": ""
             }
            },
            "type": "scatterternary"
           }
          ],
          "surface": [
           {
            "colorbar": {
             "outlinewidth": 0,
             "ticks": ""
            },
            "colorscale": [
             [
              0,
              "#0d0887"
             ],
             [
              0.1111111111111111,
              "#46039f"
             ],
             [
              0.2222222222222222,
              "#7201a8"
             ],
             [
              0.3333333333333333,
              "#9c179e"
             ],
             [
              0.4444444444444444,
              "#bd3786"
             ],
             [
              0.5555555555555556,
              "#d8576b"
             ],
             [
              0.6666666666666666,
              "#ed7953"
             ],
             [
              0.7777777777777778,
              "#fb9f3a"
             ],
             [
              0.8888888888888888,
              "#fdca26"
             ],
             [
              1,
              "#f0f921"
             ]
            ],
            "type": "surface"
           }
          ],
          "table": [
           {
            "cells": {
             "fill": {
              "color": "#EBF0F8"
             },
             "line": {
              "color": "white"
             }
            },
            "header": {
             "fill": {
              "color": "#C8D4E3"
             },
             "line": {
              "color": "white"
             }
            },
            "type": "table"
           }
          ]
         },
         "layout": {
          "annotationdefaults": {
           "arrowcolor": "#2a3f5f",
           "arrowhead": 0,
           "arrowwidth": 1
          },
          "autotypenumbers": "strict",
          "coloraxis": {
           "colorbar": {
            "outlinewidth": 0,
            "ticks": ""
           }
          },
          "colorscale": {
           "diverging": [
            [
             0,
             "#8e0152"
            ],
            [
             0.1,
             "#c51b7d"
            ],
            [
             0.2,
             "#de77ae"
            ],
            [
             0.3,
             "#f1b6da"
            ],
            [
             0.4,
             "#fde0ef"
            ],
            [
             0.5,
             "#f7f7f7"
            ],
            [
             0.6,
             "#e6f5d0"
            ],
            [
             0.7,
             "#b8e186"
            ],
            [
             0.8,
             "#7fbc41"
            ],
            [
             0.9,
             "#4d9221"
            ],
            [
             1,
             "#276419"
            ]
           ],
           "sequential": [
            [
             0,
             "#0d0887"
            ],
            [
             0.1111111111111111,
             "#46039f"
            ],
            [
             0.2222222222222222,
             "#7201a8"
            ],
            [
             0.3333333333333333,
             "#9c179e"
            ],
            [
             0.4444444444444444,
             "#bd3786"
            ],
            [
             0.5555555555555556,
             "#d8576b"
            ],
            [
             0.6666666666666666,
             "#ed7953"
            ],
            [
             0.7777777777777778,
             "#fb9f3a"
            ],
            [
             0.8888888888888888,
             "#fdca26"
            ],
            [
             1,
             "#f0f921"
            ]
           ],
           "sequentialminus": [
            [
             0,
             "#0d0887"
            ],
            [
             0.1111111111111111,
             "#46039f"
            ],
            [
             0.2222222222222222,
             "#7201a8"
            ],
            [
             0.3333333333333333,
             "#9c179e"
            ],
            [
             0.4444444444444444,
             "#bd3786"
            ],
            [
             0.5555555555555556,
             "#d8576b"
            ],
            [
             0.6666666666666666,
             "#ed7953"
            ],
            [
             0.7777777777777778,
             "#fb9f3a"
            ],
            [
             0.8888888888888888,
             "#fdca26"
            ],
            [
             1,
             "#f0f921"
            ]
           ]
          },
          "colorway": [
           "#636efa",
           "#EF553B",
           "#00cc96",
           "#ab63fa",
           "#FFA15A",
           "#19d3f3",
           "#FF6692",
           "#B6E880",
           "#FF97FF",
           "#FECB52"
          ],
          "font": {
           "color": "#2a3f5f"
          },
          "geo": {
           "bgcolor": "white",
           "lakecolor": "white",
           "landcolor": "#E5ECF6",
           "showlakes": true,
           "showland": true,
           "subunitcolor": "white"
          },
          "hoverlabel": {
           "align": "left"
          },
          "hovermode": "closest",
          "mapbox": {
           "style": "light"
          },
          "paper_bgcolor": "white",
          "plot_bgcolor": "#E5ECF6",
          "polar": {
           "angularaxis": {
            "gridcolor": "white",
            "linecolor": "white",
            "ticks": ""
           },
           "bgcolor": "#E5ECF6",
           "radialaxis": {
            "gridcolor": "white",
            "linecolor": "white",
            "ticks": ""
           }
          },
          "scene": {
           "xaxis": {
            "backgroundcolor": "#E5ECF6",
            "gridcolor": "white",
            "gridwidth": 2,
            "linecolor": "white",
            "showbackground": true,
            "ticks": "",
            "zerolinecolor": "white"
           },
           "yaxis": {
            "backgroundcolor": "#E5ECF6",
            "gridcolor": "white",
            "gridwidth": 2,
            "linecolor": "white",
            "showbackground": true,
            "ticks": "",
            "zerolinecolor": "white"
           },
           "zaxis": {
            "backgroundcolor": "#E5ECF6",
            "gridcolor": "white",
            "gridwidth": 2,
            "linecolor": "white",
            "showbackground": true,
            "ticks": "",
            "zerolinecolor": "white"
           }
          },
          "shapedefaults": {
           "line": {
            "color": "#2a3f5f"
           }
          },
          "ternary": {
           "aaxis": {
            "gridcolor": "white",
            "linecolor": "white",
            "ticks": ""
           },
           "baxis": {
            "gridcolor": "white",
            "linecolor": "white",
            "ticks": ""
           },
           "bgcolor": "#E5ECF6",
           "caxis": {
            "gridcolor": "white",
            "linecolor": "white",
            "ticks": ""
           }
          },
          "title": {
           "x": 0.05
          },
          "xaxis": {
           "automargin": true,
           "gridcolor": "white",
           "linecolor": "white",
           "ticks": "",
           "title": {
            "standoff": 15
           },
           "zerolinecolor": "white",
           "zerolinewidth": 2
          },
          "yaxis": {
           "automargin": true,
           "gridcolor": "white",
           "linecolor": "white",
           "ticks": "",
           "title": {
            "standoff": 15
           },
           "zerolinecolor": "white",
           "zerolinewidth": 2
          }
         }
        }
       }
      },
      "image/png": "[encoded data removed]",
      "text/html": [
       "<div>                            <div id=\"123b033c-d9ec-41ef-9750-a93fddcdad78\" class=\"plotly-graph-div\" style=\"height:525px; width:100%;\"></div>            <script type=\"text/javascript\">                require([\"plotly\"], function(Plotly) {                    window.PLOTLYENV=window.PLOTLYENV || {};                                    if (document.getElementById(\"123b033c-d9ec-41ef-9750-a93fddcdad78\")) {                    Plotly.newPlot(                        \"123b033c-d9ec-41ef-9750-a93fddcdad78\",                        [{\"type\":\"scattergeo\"},{\"lat\":[45.626396,38.1824,45.200499198,39.2515388,43.808653,45.5032,40.916668,44.414165,42.461788,45.395699,38.906585,37.4673,40.884,44.535442,43.616943],\"line\":{\"color\":\"blue\"},\"lon\":[8.712519,13.100582,7.643164094,9.0556723,11.201225,12.3512,9.5,8.942184,14.21609,10.8885,16.243402,15.0658,14.2878,11.288667,13.516667],\"text\":[\"LIMC\",\"LICJ\",\"LIMF\",\"LIEE\",\"LIRQ\",\"LIPZ\",\"LIEO\",\"LIMJ\",\"LIBP\",\"LIPX\",\"LICA\",\"LICC\",\"LIRN\",\"LIPE\",\"LIPY\"],\"type\":\"scattergeo\"},{\"lat\":[45.626396],\"line\":{\"color\":\"red\"},\"lon\":[8.712519],\"text\":[\"LIMC\",\"LICJ\",\"LIMF\",\"LIEE\",\"LIRQ\",\"LIPZ\",\"LIEO\",\"LIMJ\",\"LIBP\",\"LIPX\",\"LICA\",\"LICC\",\"LIRN\",\"LIPE\",\"LIPY\"],\"type\":\"scattergeo\"}],                        {\"template\":{\"data\":{\"histogram2dcontour\":[{\"type\":\"histogram2dcontour\",\"colorbar\":{\"outlinewidth\":0,\"ticks\":\"\"},\"colorscale\":[[0.0,\"#0d0887\"],[0.1111111111111111,\"#46039f\"],[0.2222222222222222,\"#7201a8\"],[0.3333333333333333,\"#9c179e\"],[0.4444444444444444,\"#bd3786\"],[0.5555555555555556,\"#d8576b\"],[0.6666666666666666,\"#ed7953\"],[0.7777777777777778,\"#fb9f3a\"],[0.8888888888888888,\"#fdca26\"],[1.0,\"#f0f921\"]]}],\"choropleth\":[{\"type\":\"choropleth\",\"colorbar\":{\"outlinewidth\":0,\"ticks\":\"\"}}],\"histogram2d\":[{\"type\":\"histogram2d\",\"colorbar\":{\"outlinewidth\":0,\"ticks\":\"\"},\"colorscale\":[[0.0,\"#0d0887\"],[0.1111111111111111,\"#46039f\"],[0.2222222222222222,\"#7201a8\"],[0.3333333333333333,\"#9c179e\"],[0.4444444444444444,\"#bd3786\"],[0.5555555555555556,\"#d8576b\"],[0.6666666666666666,\"#ed7953\"],[0.7777777777777778,\"#fb9f3a\"],[0.8888888888888888,\"#fdca26\"],[1.0,\"#f0f921\"]]}],\"heatmap\":[{\"type\":\"heatmap\",\"colorbar\":{\"outlinewidth\":0,\"ticks\":\"\"},\"colorscale\":[[0.0,\"#0d0887\"],[0.1111111111111111,\"#46039f\"],[0.2222222222222222,\"#7201a8\"],[0.3333333333333333,\"#9c179e\"],[0.4444444444444444,\"#bd3786\"],[0.5555555555555556,\"#d8576b\"],[0.6666666666666666,\"#ed7953\"],[0.7777777777777778,\"#fb9f3a\"],[0.8888888888888888,\"#fdca26\"],[1.0,\"#f0f921\"]]}],\"heatmapgl\":[{\"type\":\"heatmapgl\",\"colorbar\":{\"outlinewidth\":0,\"ticks\":\"\"},\"colorscale\":[[0.0,\"#0d0887\"],[0.1111111111111111,\"#46039f\"],[0.2222222222222222,\"#7201a8\"],[0.3333333333333333,\"#9c179e\"],[0.4444444444444444,\"#bd3786\"],[0.5555555555555556,\"#d8576b\"],[0.6666666666666666,\"#ed7953\"],[0.7777777777777778,\"#fb9f3a\"],[0.8888888888888888,\"#fdca26\"],[1.0,\"#f0f921\"]]}],\"contourcarpet\":[{\"type\":\"contourcarpet\",\"colorbar\":{\"outlinewidth\":0,\"ticks\":\"\"}}],\"contour\":[{\"type\":\"contour\",\"colorbar\":{\"outlinewidth\":0,\"ticks\":\"\"},\"colorscale\":[[0.0,\"#0d0887\"],[0.1111111111111111,\"#46039f\"],[0.2222222222222222,\"#7201a8\"],[0.3333333333333333,\"#9c179e\"],[0.4444444444444444,\"#bd3786\"],[0.5555555555555556,\"#d8576b\"],[0.6666666666666666,\"#ed7953\"],[0.7777777777777778,\"#fb9f3a\"],[0.8888888888888888,\"#fdca26\"],[1.0,\"#f0f921\"]]}],\"surface\":[{\"type\":\"surface\",\"colorbar\":{\"outlinewidth\":0,\"ticks\":\"\"},\"colorscale\":[[0.0,\"#0d0887\"],[0.1111111111111111,\"#46039f\"],[0.2222222222222222,\"#7201a8\"],[0.3333333333333333,\"#9c179e\"],[0.4444444444444444,\"#bd3786\"],[0.5555555555555556,\"#d8576b\"],[0.6666666666666666,\"#ed7953\"],[0.7777777777777778,\"#fb9f3a\"],[0.8888888888888888,\"#fdca26\"],[1.0,\"#f0f921\"]]}],\"mesh3d\":[{\"type\":\"mesh3d\",\"colorbar\":{\"outlinewidth\":0,\"ticks\":\"\"}}],\"scatter\":[{\"fillpattern\":{\"fillmode\":\"overlay\",\"size\":10,\"solidity\":0.2},\"type\":\"scatter\"}],\"parcoords\":[{\"type\":\"parcoords\",\"line\":{\"colorbar\":{\"outlinewidth\":0,\"ticks\":\"\"}}}],\"scatterpolargl\":[{\"type\":\"scatterpolargl\",\"marker\":{\"colorbar\":{\"outlinewidth\":0,\"ticks\":\"\"}}}],\"bar\":[{\"error_x\":{\"color\":\"#2a3f5f\"},\"error_y\":{\"color\":\"#2a3f5f\"},\"marker\":{\"line\":{\"color\":\"#E5ECF6\",\"width\":0.5},\"pattern\":{\"fillmode\":\"overlay\",\"size\":10,\"solidity\":0.2}},\"type\":\"bar\"}],\"scattergeo\":[{\"type\":\"scattergeo\",\"marker\":{\"colorbar\":{\"outlinewidth\":0,\"ticks\":\"\"}}}],\"scatterpolar\":[{\"type\":\"scatterpolar\",\"marker\":{\"colorbar\":{\"outlinewidth\":0,\"ticks\":\"\"}}}],\"histogram\":[{\"marker\":{\"pattern\":{\"fillmode\":\"overlay\",\"size\":10,\"solidity\":0.2}},\"type\":\"histogram\"}],\"scattergl\":[{\"type\":\"scattergl\",\"marker\":{\"colorbar\":{\"outlinewidth\":0,\"ticks\":\"\"}}}],\"scatter3d\":[{\"type\":\"scatter3d\",\"line\":{\"colorbar\":{\"outlinewidth\":0,\"ticks\":\"\"}},\"marker\":{\"colorbar\":{\"outlinewidth\":0,\"ticks\":\"\"}}}],\"scattermapbox\":[{\"type\":\"scattermapbox\",\"marker\":{\"colorbar\":{\"outlinewidth\":0,\"ticks\":\"\"}}}],\"scatterternary\":[{\"type\":\"scatterternary\",\"marker\":{\"colorbar\":{\"outlinewidth\":0,\"ticks\":\"\"}}}],\"scattercarpet\":[{\"type\":\"scattercarpet\",\"marker\":{\"colorbar\":{\"outlinewidth\":0,\"ticks\":\"\"}}}],\"carpet\":[{\"aaxis\":{\"endlinecolor\":\"#2a3f5f\",\"gridcolor\":\"white\",\"linecolor\":\"white\",\"minorgridcolor\":\"white\",\"startlinecolor\":\"#2a3f5f\"},\"baxis\":{\"endlinecolor\":\"#2a3f5f\",\"gridcolor\":\"white\",\"linecolor\":\"white\",\"minorgridcolor\":\"white\",\"startlinecolor\":\"#2a3f5f\"},\"type\":\"carpet\"}],\"table\":[{\"cells\":{\"fill\":{\"color\":\"#EBF0F8\"},\"line\":{\"color\":\"white\"}},\"header\":{\"fill\":{\"color\":\"#C8D4E3\"},\"line\":{\"color\":\"white\"}},\"type\":\"table\"}],\"barpolar\":[{\"marker\":{\"line\":{\"color\":\"#E5ECF6\",\"width\":0.5},\"pattern\":{\"fillmode\":\"overlay\",\"size\":10,\"solidity\":0.2}},\"type\":\"barpolar\"}],\"pie\":[{\"automargin\":true,\"type\":\"pie\"}]},\"layout\":{\"autotypenumbers\":\"strict\",\"colorway\":[\"#636efa\",\"#EF553B\",\"#00cc96\",\"#ab63fa\",\"#FFA15A\",\"#19d3f3\",\"#FF6692\",\"#B6E880\",\"#FF97FF\",\"#FECB52\"],\"font\":{\"color\":\"#2a3f5f\"},\"hovermode\":\"closest\",\"hoverlabel\":{\"align\":\"left\"},\"paper_bgcolor\":\"white\",\"plot_bgcolor\":\"#E5ECF6\",\"polar\":{\"bgcolor\":\"#E5ECF6\",\"angularaxis\":{\"gridcolor\":\"white\",\"linecolor\":\"white\",\"ticks\":\"\"},\"radialaxis\":{\"gridcolor\":\"white\",\"linecolor\":\"white\",\"ticks\":\"\"}},\"ternary\":{\"bgcolor\":\"#E5ECF6\",\"aaxis\":{\"gridcolor\":\"white\",\"linecolor\":\"white\",\"ticks\":\"\"},\"baxis\":{\"gridcolor\":\"white\",\"linecolor\":\"white\",\"ticks\":\"\"},\"caxis\":{\"gridcolor\":\"white\",\"linecolor\":\"white\",\"ticks\":\"\"}},\"coloraxis\":{\"colorbar\":{\"outlinewidth\":0,\"ticks\":\"\"}},\"colorscale\":{\"sequential\":[[0.0,\"#0d0887\"],[0.1111111111111111,\"#46039f\"],[0.2222222222222222,\"#7201a8\"],[0.3333333333333333,\"#9c179e\"],[0.4444444444444444,\"#bd3786\"],[0.5555555555555556,\"#d8576b\"],[0.6666666666666666,\"#ed7953\"],[0.7777777777777778,\"#fb9f3a\"],[0.8888888888888888,\"#fdca26\"],[1.0,\"#f0f921\"]],\"sequentialminus\":[[0.0,\"#0d0887\"],[0.1111111111111111,\"#46039f\"],[0.2222222222222222,\"#7201a8\"],[0.3333333333333333,\"#9c179e\"],[0.4444444444444444,\"#bd3786\"],[0.5555555555555556,\"#d8576b\"],[0.6666666666666666,\"#ed7953\"],[0.7777777777777778,\"#fb9f3a\"],[0.8888888888888888,\"#fdca26\"],[1.0,\"#f0f921\"]],\"diverging\":[[0,\"#8e0152\"],[0.1,\"#c51b7d\"],[0.2,\"#de77ae\"],[0.3,\"#f1b6da\"],[0.4,\"#fde0ef\"],[0.5,\"#f7f7f7\"],[0.6,\"#e6f5d0\"],[0.7,\"#b8e186\"],[0.8,\"#7fbc41\"],[0.9,\"#4d9221\"],[1,\"#276419\"]]},\"xaxis\":{\"gridcolor\":\"white\",\"linecolor\":\"white\",\"ticks\":\"\",\"title\":{\"standoff\":15},\"zerolinecolor\":\"white\",\"automargin\":true,\"zerolinewidth\":2},\"yaxis\":{\"gridcolor\":\"white\",\"linecolor\":\"white\",\"ticks\":\"\",\"title\":{\"standoff\":15},\"zerolinecolor\":\"white\",\"automargin\":true,\"zerolinewidth\":2},\"scene\":{\"xaxis\":{\"backgroundcolor\":\"#E5ECF6\",\"gridcolor\":\"white\",\"linecolor\":\"white\",\"showbackground\":true,\"ticks\":\"\",\"zerolinecolor\":\"white\",\"gridwidth\":2},\"yaxis\":{\"backgroundcolor\":\"#E5ECF6\",\"gridcolor\":\"white\",\"linecolor\":\"white\",\"showbackground\":true,\"ticks\":\"\",\"zerolinecolor\":\"white\",\"gridwidth\":2},\"zaxis\":{\"backgroundcolor\":\"#E5ECF6\",\"gridcolor\":\"white\",\"linecolor\":\"white\",\"showbackground\":true,\"ticks\":\"\",\"zerolinecolor\":\"white\",\"gridwidth\":2}},\"shapedefaults\":{\"line\":{\"color\":\"#2a3f5f\"}},\"annotationdefaults\":{\"arrowcolor\":\"#2a3f5f\",\"arrowhead\":0,\"arrowwidth\":1},\"geo\":{\"bgcolor\":\"white\",\"landcolor\":\"#E5ECF6\",\"subunitcolor\":\"white\",\"showland\":true,\"showlakes\":true,\"lakecolor\":\"white\"},\"title\":{\"x\":0.05},\"mapbox\":{\"style\":\"light\"}}},\"geo\":{\"lataxis\":{\"range\":[36,48],\"showgrid\":true,\"dtick\":3},\"lonaxis\":{\"range\":[6,20],\"showgrid\":true,\"dtick\":3},\"resolution\":50},\"showlegend\":false},                        {\"responsive\": true}                    ).then(function(){\n",
       "                            \n",
       "var gd = document.getElementById('123b033c-d9ec-41ef-9750-a93fddcdad78');\n",
       "var x = new MutationObserver(function (mutations, observer) {{\n",
       "        var display = window.getComputedStyle(gd).display;\n",
       "        if (!display || display === 'none') {{\n",
       "            console.log([gd, 'removed!']);\n",
       "            Plotly.purge(gd);\n",
       "            observer.disconnect();\n",
       "        }}\n",
       "}});\n",
       "\n",
       "// Listen for the removal of the full notebook cells\n",
       "var notebookContainer = gd.closest('#notebook-container');\n",
       "if (notebookContainer) {{\n",
       "    x.observe(notebookContainer, {childList: true});\n",
       "}}\n",
       "\n",
       "// Listen for the clearing of the current output cell\n",
       "var outputEl = gd.closest('.output');\n",
       "if (outputEl) {{\n",
       "    x.observe(outputEl, {childList: true});\n",
       "}}\n",
       "\n",
       "                        })                };                });            </script>        </div>"
      ]
     },
     "metadata": {},
     "output_type": "display_data"
    }
   ],
   "source": [
    "fig = go.Figure(data=go.Scattergeo())\n",
    "fig.add_trace(go.Scattergeo(lat =(airport_data['Latitude (deg)']), lon= (airport_data['Longitude (deg)']), text =airports,  line = dict( color = \"blue\")))\n",
    "fig.add_trace(go.Scattergeo(lat =([airport_data.loc[hub]['Latitude (deg)']]), lon= ([airport_data.loc[hub]['Longitude (deg)']]), text =airports, line = dict( color = \"red\")))\n",
    "fig.update_layout(showlegend=False, geo=dict(resolution=50, lataxis=dict(range=[36, 48], showgrid=True, dtick=3), lonaxis=dict(range=[6, 20], showgrid=True, dtick=3)))\n",
    "fig.show()"
   ]
  },
  {
   "cell_type": "code",
   "execution_count": 45,
   "metadata": {},
   "outputs": [
    {
     "data": {
      "text/html": [
       "<div>\n",
       "<style scoped>\n",
       "    .dataframe tbody tr th:only-of-type {\n",
       "        vertical-align: middle;\n",
       "    }\n",
       "\n",
       "    .dataframe tbody tr th {\n",
       "        vertical-align: top;\n",
       "    }\n",
       "\n",
       "    .dataframe thead th {\n",
       "        text-align: right;\n",
       "    }\n",
       "</style>\n",
       "<table border=\"1\" class=\"dataframe\">\n",
       "  <thead>\n",
       "    <tr style=\"text-align: right;\">\n",
       "      <th></th>\n",
       "      <th>City Name</th>\n",
       "      <th>Latitude (deg)</th>\n",
       "      <th>Longitude (deg)</th>\n",
       "      <th>Runway (m)</th>\n",
       "      <th>Population</th>\n",
       "      <th>GDP</th>\n",
       "    </tr>\n",
       "    <tr>\n",
       "      <th>ICAO Code</th>\n",
       "      <th></th>\n",
       "      <th></th>\n",
       "      <th></th>\n",
       "      <th></th>\n",
       "      <th></th>\n",
       "      <th></th>\n",
       "    </tr>\n",
       "  </thead>\n",
       "  <tbody>\n",
       "    <tr>\n",
       "      <th>LIMC</th>\n",
       "      <td>Malpensa</td>\n",
       "      <td>45.626396</td>\n",
       "      <td>8.712519</td>\n",
       "      <td>3920</td>\n",
       "      <td>11117615</td>\n",
       "      <td>468.77</td>\n",
       "    </tr>\n",
       "    <tr>\n",
       "      <th>LICJ</th>\n",
       "      <td>Palermo</td>\n",
       "      <td>38.182400</td>\n",
       "      <td>13.100582</td>\n",
       "      <td>3326</td>\n",
       "      <td>1880634</td>\n",
       "      <td>89.36</td>\n",
       "    </tr>\n",
       "    <tr>\n",
       "      <th>LIMF</th>\n",
       "      <td>Torino</td>\n",
       "      <td>45.200499</td>\n",
       "      <td>7.643164</td>\n",
       "      <td>3300</td>\n",
       "      <td>477617</td>\n",
       "      <td>137.78</td>\n",
       "    </tr>\n",
       "    <tr>\n",
       "      <th>LIEE</th>\n",
       "      <td>Cagliari</td>\n",
       "      <td>39.251539</td>\n",
       "      <td>9.055672</td>\n",
       "      <td>2803</td>\n",
       "      <td>994409</td>\n",
       "      <td>35.25</td>\n",
       "    </tr>\n",
       "    <tr>\n",
       "      <th>LIRQ</th>\n",
       "      <td>Firenze</td>\n",
       "      <td>43.808653</td>\n",
       "      <td>11.201225</td>\n",
       "      <td>1750</td>\n",
       "      <td>5827084</td>\n",
       "      <td>118.72</td>\n",
       "    </tr>\n",
       "    <tr>\n",
       "      <th>LIPZ</th>\n",
       "      <td>Venezia</td>\n",
       "      <td>45.503200</td>\n",
       "      <td>12.351200</td>\n",
       "      <td>3300</td>\n",
       "      <td>5658163</td>\n",
       "      <td>164.86</td>\n",
       "    </tr>\n",
       "    <tr>\n",
       "      <th>LIEO</th>\n",
       "      <td>Olbia</td>\n",
       "      <td>40.916668</td>\n",
       "      <td>9.500000</td>\n",
       "      <td>2745</td>\n",
       "      <td>640734</td>\n",
       "      <td>35.25</td>\n",
       "    </tr>\n",
       "    <tr>\n",
       "      <th>LIMJ</th>\n",
       "      <td>Genova</td>\n",
       "      <td>44.414165</td>\n",
       "      <td>8.942184</td>\n",
       "      <td>3066</td>\n",
       "      <td>3422620</td>\n",
       "      <td>49.74</td>\n",
       "    </tr>\n",
       "    <tr>\n",
       "      <th>LIBP</th>\n",
       "      <td>Pescara</td>\n",
       "      <td>42.461788</td>\n",
       "      <td>14.216090</td>\n",
       "      <td>2419</td>\n",
       "      <td>2005440</td>\n",
       "      <td>33.13</td>\n",
       "    </tr>\n",
       "    <tr>\n",
       "      <th>LIPX</th>\n",
       "      <td>Verona</td>\n",
       "      <td>45.395699</td>\n",
       "      <td>10.888500</td>\n",
       "      <td>3068</td>\n",
       "      <td>9002561</td>\n",
       "      <td>38.77</td>\n",
       "    </tr>\n",
       "    <tr>\n",
       "      <th>LICA</th>\n",
       "      <td>LameziaTerme</td>\n",
       "      <td>38.906585</td>\n",
       "      <td>16.243402</td>\n",
       "      <td>2414</td>\n",
       "      <td>1737196</td>\n",
       "      <td>33.61</td>\n",
       "    </tr>\n",
       "    <tr>\n",
       "      <th>LICC</th>\n",
       "      <td>Catania</td>\n",
       "      <td>37.467300</td>\n",
       "      <td>15.065800</td>\n",
       "      <td>2435</td>\n",
       "      <td>3126768</td>\n",
       "      <td>89.36</td>\n",
       "    </tr>\n",
       "    <tr>\n",
       "      <th>LIRN</th>\n",
       "      <td>Napoli</td>\n",
       "      <td>40.884000</td>\n",
       "      <td>14.287800</td>\n",
       "      <td>2012</td>\n",
       "      <td>6282927</td>\n",
       "      <td>109.63</td>\n",
       "    </tr>\n",
       "    <tr>\n",
       "      <th>LIPE</th>\n",
       "      <td>Bologna</td>\n",
       "      <td>44.535442</td>\n",
       "      <td>11.288667</td>\n",
       "      <td>2800</td>\n",
       "      <td>7026812</td>\n",
       "      <td>163.75</td>\n",
       "    </tr>\n",
       "    <tr>\n",
       "      <th>LIPY</th>\n",
       "      <td>Ancona</td>\n",
       "      <td>43.616943</td>\n",
       "      <td>13.516667</td>\n",
       "      <td>2962</td>\n",
       "      <td>2281970</td>\n",
       "      <td>42.39</td>\n",
       "    </tr>\n",
       "  </tbody>\n",
       "</table>\n",
       "</div>"
      ],
      "text/plain": [
       "              City Name  Latitude (deg)  Longitude (deg)  Runway (m)  \\\n",
       "ICAO Code                                                              \n",
       "LIMC           Malpensa       45.626396         8.712519        3920   \n",
       "LICJ            Palermo       38.182400        13.100582        3326   \n",
       "LIMF             Torino       45.200499         7.643164        3300   \n",
       "LIEE           Cagliari       39.251539         9.055672        2803   \n",
       "LIRQ            Firenze       43.808653        11.201225        1750   \n",
       "LIPZ            Venezia       45.503200        12.351200        3300   \n",
       "LIEO              Olbia       40.916668         9.500000        2745   \n",
       "LIMJ             Genova       44.414165         8.942184        3066   \n",
       "LIBP            Pescara       42.461788        14.216090        2419   \n",
       "LIPX             Verona       45.395699        10.888500        3068   \n",
       "LICA       LameziaTerme       38.906585        16.243402        2414   \n",
       "LICC            Catania       37.467300        15.065800        2435   \n",
       "LIRN             Napoli       40.884000        14.287800        2012   \n",
       "LIPE            Bologna       44.535442        11.288667        2800   \n",
       "LIPY             Ancona       43.616943        13.516667        2962   \n",
       "\n",
       "           Population     GDP  \n",
       "ICAO Code                      \n",
       "LIMC         11117615  468.77  \n",
       "LICJ          1880634   89.36  \n",
       "LIMF           477617  137.78  \n",
       "LIEE           994409   35.25  \n",
       "LIRQ          5827084  118.72  \n",
       "LIPZ          5658163  164.86  \n",
       "LIEO           640734   35.25  \n",
       "LIMJ          3422620   49.74  \n",
       "LIBP          2005440   33.13  \n",
       "LIPX          9002561   38.77  \n",
       "LICA          1737196   33.61  \n",
       "LICC          3126768   89.36  \n",
       "LIRN          6282927  109.63  \n",
       "LIPE          7026812  163.75  \n",
       "LIPY          2281970   42.39  "
      ]
     },
     "execution_count": 45,
     "metadata": {},
     "output_type": "execute_result"
    }
   ],
   "source": [
    "airport_data"
   ]
  },
  {
   "cell_type": "markdown",
   "metadata": {
    "id": "djXHUnsliOA3"
   },
   "source": [
    "If desired, you can check out the aircraft, demand and airport distance data by executing the following pieces of code."
   ]
  },
  {
   "cell_type": "code",
   "execution_count": 46,
   "metadata": {
    "colab": {
     "base_uri": "https://localhost:8080/",
     "height": 165
    },
    "id": "HALyjZpV7IhT",
    "outputId": "92a7bfe1-dc78-4ca9-d46a-73e246efa688"
   },
   "outputs": [
    {
     "data": {
      "text/html": [
       "<div>\n",
       "<style scoped>\n",
       "    .dataframe tbody tr th:only-of-type {\n",
       "        vertical-align: middle;\n",
       "    }\n",
       "\n",
       "    .dataframe tbody tr th {\n",
       "        vertical-align: top;\n",
       "    }\n",
       "\n",
       "    .dataframe thead th {\n",
       "        text-align: right;\n",
       "    }\n",
       "</style>\n",
       "<table border=\"1\" class=\"dataframe\">\n",
       "  <thead>\n",
       "    <tr style=\"text-align: right;\">\n",
       "      <th></th>\n",
       "      <th>AC_type</th>\n",
       "      <th>Speed</th>\n",
       "      <th>Seats</th>\n",
       "      <th>TAT</th>\n",
       "      <th>Charging</th>\n",
       "      <th>Range</th>\n",
       "      <th>Runway</th>\n",
       "      <th>Lease_c</th>\n",
       "      <th>Operating_c</th>\n",
       "      <th>Time_c</th>\n",
       "      <th>Fuel_c</th>\n",
       "      <th>Energy_c</th>\n",
       "    </tr>\n",
       "  </thead>\n",
       "  <tbody>\n",
       "    <tr>\n",
       "      <th>0</th>\n",
       "      <td>Regional Turboprop</td>\n",
       "      <td>550</td>\n",
       "      <td>45</td>\n",
       "      <td>25</td>\n",
       "      <td>0</td>\n",
       "      <td>1500</td>\n",
       "      <td>1400</td>\n",
       "      <td>15000</td>\n",
       "      <td>300</td>\n",
       "      <td>750</td>\n",
       "      <td>1.00</td>\n",
       "      <td>0</td>\n",
       "    </tr>\n",
       "    <tr>\n",
       "      <th>1</th>\n",
       "      <td>Regional Jet</td>\n",
       "      <td>820</td>\n",
       "      <td>70</td>\n",
       "      <td>35</td>\n",
       "      <td>0</td>\n",
       "      <td>3300</td>\n",
       "      <td>1600</td>\n",
       "      <td>34000</td>\n",
       "      <td>600</td>\n",
       "      <td>775</td>\n",
       "      <td>2.00</td>\n",
       "      <td>0</td>\n",
       "    </tr>\n",
       "    <tr>\n",
       "      <th>2</th>\n",
       "      <td>Single Aisle Twin Engine Jet</td>\n",
       "      <td>850</td>\n",
       "      <td>150</td>\n",
       "      <td>45</td>\n",
       "      <td>0</td>\n",
       "      <td>6300</td>\n",
       "      <td>1800</td>\n",
       "      <td>80000</td>\n",
       "      <td>1250</td>\n",
       "      <td>1400</td>\n",
       "      <td>3.75</td>\n",
       "      <td>0</td>\n",
       "    </tr>\n",
       "    <tr>\n",
       "      <th>3</th>\n",
       "      <td>Electric twinprop aircraft</td>\n",
       "      <td>350</td>\n",
       "      <td>20</td>\n",
       "      <td>20</td>\n",
       "      <td>20</td>\n",
       "      <td>400</td>\n",
       "      <td>750</td>\n",
       "      <td>12000</td>\n",
       "      <td>90</td>\n",
       "      <td>750</td>\n",
       "      <td>0.00</td>\n",
       "      <td>2130</td>\n",
       "    </tr>\n",
       "    <tr>\n",
       "      <th>4</th>\n",
       "      <td>Electric regional aircraft</td>\n",
       "      <td>480</td>\n",
       "      <td>48</td>\n",
       "      <td>25</td>\n",
       "      <td>45</td>\n",
       "      <td>1000</td>\n",
       "      <td>950</td>\n",
       "      <td>22000</td>\n",
       "      <td>120</td>\n",
       "      <td>750</td>\n",
       "      <td>0.00</td>\n",
       "      <td>8216</td>\n",
       "    </tr>\n",
       "  </tbody>\n",
       "</table>\n",
       "</div>"
      ],
      "text/plain": [
       "                        AC_type  Speed  Seats  TAT  Charging  Range  Runway  \\\n",
       "0            Regional Turboprop    550     45   25         0   1500    1400   \n",
       "1                  Regional Jet    820     70   35         0   3300    1600   \n",
       "2  Single Aisle Twin Engine Jet    850    150   45         0   6300    1800   \n",
       "3    Electric twinprop aircraft    350     20   20        20    400     750   \n",
       "4    Electric regional aircraft    480     48   25        45   1000     950   \n",
       "\n",
       "   Lease_c  Operating_c  Time_c  Fuel_c  Energy_c  \n",
       "0    15000          300     750    1.00         0  \n",
       "1    34000          600     775    2.00         0  \n",
       "2    80000         1250    1400    3.75         0  \n",
       "3    12000           90     750    0.00      2130  \n",
       "4    22000          120     750    0.00      8216  "
      ]
     },
     "execution_count": 46,
     "metadata": {},
     "output_type": "execute_result"
    }
   ],
   "source": [
    "aircraft_data"
   ]
  },
  {
   "cell_type": "markdown",
   "metadata": {},
   "source": [
    "The following table contains the demand from the year 2020."
   ]
  },
  {
   "cell_type": "code",
   "execution_count": 47,
   "metadata": {
    "id": "NBsHatPN7jiL"
   },
   "outputs": [
    {
     "data": {
      "text/html": [
       "<div>\n",
       "<style scoped>\n",
       "    .dataframe tbody tr th:only-of-type {\n",
       "        vertical-align: middle;\n",
       "    }\n",
       "\n",
       "    .dataframe tbody tr th {\n",
       "        vertical-align: top;\n",
       "    }\n",
       "\n",
       "    .dataframe thead th {\n",
       "        text-align: right;\n",
       "    }\n",
       "</style>\n",
       "<table border=\"1\" class=\"dataframe\">\n",
       "  <thead>\n",
       "    <tr style=\"text-align: right;\">\n",
       "      <th></th>\n",
       "      <th>LIRN</th>\n",
       "      <th>LICJ</th>\n",
       "      <th>LIPX</th>\n",
       "      <th>LIRQ</th>\n",
       "      <th>LIBP</th>\n",
       "      <th>LIPY</th>\n",
       "      <th>LIMF</th>\n",
       "      <th>LICC</th>\n",
       "      <th>LIMC</th>\n",
       "      <th>LIPZ</th>\n",
       "    </tr>\n",
       "  </thead>\n",
       "  <tbody>\n",
       "    <tr>\n",
       "      <th>LIRN</th>\n",
       "      <td>0</td>\n",
       "      <td>66</td>\n",
       "      <td>117</td>\n",
       "      <td>104</td>\n",
       "      <td>90</td>\n",
       "      <td>93</td>\n",
       "      <td>46</td>\n",
       "      <td>97</td>\n",
       "      <td>162</td>\n",
       "      <td>105</td>\n",
       "    </tr>\n",
       "    <tr>\n",
       "      <th>LICJ</th>\n",
       "      <td>77</td>\n",
       "      <td>0</td>\n",
       "      <td>63</td>\n",
       "      <td>66</td>\n",
       "      <td>46</td>\n",
       "      <td>40</td>\n",
       "      <td>24</td>\n",
       "      <td>65</td>\n",
       "      <td>84</td>\n",
       "      <td>61</td>\n",
       "    </tr>\n",
       "    <tr>\n",
       "      <th>LIPX</th>\n",
       "      <td>103</td>\n",
       "      <td>56</td>\n",
       "      <td>0</td>\n",
       "      <td>141</td>\n",
       "      <td>63</td>\n",
       "      <td>79</td>\n",
       "      <td>68</td>\n",
       "      <td>70</td>\n",
       "      <td>244</td>\n",
       "      <td>160</td>\n",
       "    </tr>\n",
       "    <tr>\n",
       "      <th>LIRQ</th>\n",
       "      <td>120</td>\n",
       "      <td>67</td>\n",
       "      <td>125</td>\n",
       "      <td>0</td>\n",
       "      <td>65</td>\n",
       "      <td>104</td>\n",
       "      <td>46</td>\n",
       "      <td>80</td>\n",
       "      <td>180</td>\n",
       "      <td>136</td>\n",
       "    </tr>\n",
       "    <tr>\n",
       "      <th>LIBP</th>\n",
       "      <td>86</td>\n",
       "      <td>40</td>\n",
       "      <td>71</td>\n",
       "      <td>75</td>\n",
       "      <td>0</td>\n",
       "      <td>53</td>\n",
       "      <td>27</td>\n",
       "      <td>49</td>\n",
       "      <td>88</td>\n",
       "      <td>70</td>\n",
       "    </tr>\n",
       "    <tr>\n",
       "      <th>LIPY</th>\n",
       "      <td>79</td>\n",
       "      <td>43</td>\n",
       "      <td>74</td>\n",
       "      <td>83</td>\n",
       "      <td>58</td>\n",
       "      <td>0</td>\n",
       "      <td>28</td>\n",
       "      <td>50</td>\n",
       "      <td>103</td>\n",
       "      <td>84</td>\n",
       "    </tr>\n",
       "    <tr>\n",
       "      <th>LIMF</th>\n",
       "      <td>50</td>\n",
       "      <td>26</td>\n",
       "      <td>60</td>\n",
       "      <td>56</td>\n",
       "      <td>26</td>\n",
       "      <td>25</td>\n",
       "      <td>0</td>\n",
       "      <td>28</td>\n",
       "      <td>118</td>\n",
       "      <td>54</td>\n",
       "    </tr>\n",
       "    <tr>\n",
       "      <th>LICC</th>\n",
       "      <td>97</td>\n",
       "      <td>69</td>\n",
       "      <td>79</td>\n",
       "      <td>66</td>\n",
       "      <td>53</td>\n",
       "      <td>49</td>\n",
       "      <td>33</td>\n",
       "      <td>0</td>\n",
       "      <td>109</td>\n",
       "      <td>82</td>\n",
       "    </tr>\n",
       "    <tr>\n",
       "      <th>LIMC</th>\n",
       "      <td>165</td>\n",
       "      <td>95</td>\n",
       "      <td>211</td>\n",
       "      <td>204</td>\n",
       "      <td>105</td>\n",
       "      <td>115</td>\n",
       "      <td>124</td>\n",
       "      <td>97</td>\n",
       "      <td>0</td>\n",
       "      <td>235</td>\n",
       "    </tr>\n",
       "    <tr>\n",
       "      <th>LIPZ</th>\n",
       "      <td>125</td>\n",
       "      <td>75</td>\n",
       "      <td>168</td>\n",
       "      <td>148</td>\n",
       "      <td>74</td>\n",
       "      <td>87</td>\n",
       "      <td>60</td>\n",
       "      <td>87</td>\n",
       "      <td>207</td>\n",
       "      <td>0</td>\n",
       "    </tr>\n",
       "  </tbody>\n",
       "</table>\n",
       "</div>"
      ],
      "text/plain": [
       "      LIRN  LICJ  LIPX  LIRQ  LIBP  LIPY  LIMF  LICC  LIMC  LIPZ\n",
       "LIRN     0    66   117   104    90    93    46    97   162   105\n",
       "LICJ    77     0    63    66    46    40    24    65    84    61\n",
       "LIPX   103    56     0   141    63    79    68    70   244   160\n",
       "LIRQ   120    67   125     0    65   104    46    80   180   136\n",
       "LIBP    86    40    71    75     0    53    27    49    88    70\n",
       "LIPY    79    43    74    83    58     0    28    50   103    84\n",
       "LIMF    50    26    60    56    26    25     0    28   118    54\n",
       "LICC    97    69    79    66    53    49    33     0   109    82\n",
       "LIMC   165    95   211   204   105   115   124    97     0   235\n",
       "LIPZ   125    75   168   148    74    87    60    87   207     0"
      ]
     },
     "execution_count": 47,
     "metadata": {},
     "output_type": "execute_result"
    }
   ],
   "source": [
    "demand_data"
   ]
  },
  {
   "cell_type": "markdown",
   "metadata": {},
   "source": [
    "The population of all regions is expected to grow with the following fixed annual growth factor."
   ]
  },
  {
   "cell_type": "code",
   "execution_count": 48,
   "metadata": {},
   "outputs": [
    {
     "name": "stdout",
     "output_type": "stream",
     "text": [
      "0.84%\n"
     ]
    }
   ],
   "source": [
    "print(str(annual_growth) + '%')"
   ]
  },
  {
   "cell_type": "code",
   "execution_count": 49,
   "metadata": {
    "colab": {
     "base_uri": "https://localhost:8080/",
     "height": 430
    },
    "id": "stMWzeKz712M",
    "outputId": "58c921db-e432-4e2e-c17e-67527e1a5e4e"
   },
   "outputs": [
    {
     "data": {
      "text/html": [
       "<div>\n",
       "<style scoped>\n",
       "    .dataframe tbody tr th:only-of-type {\n",
       "        vertical-align: middle;\n",
       "    }\n",
       "\n",
       "    .dataframe tbody tr th {\n",
       "        vertical-align: top;\n",
       "    }\n",
       "\n",
       "    .dataframe thead th {\n",
       "        text-align: right;\n",
       "    }\n",
       "</style>\n",
       "<table border=\"1\" class=\"dataframe\">\n",
       "  <thead>\n",
       "    <tr style=\"text-align: right;\">\n",
       "      <th></th>\n",
       "      <th>LIMC</th>\n",
       "      <th>LICJ</th>\n",
       "      <th>LIMF</th>\n",
       "      <th>LIEE</th>\n",
       "      <th>LIRQ</th>\n",
       "      <th>LIPZ</th>\n",
       "      <th>LIEO</th>\n",
       "      <th>LIMJ</th>\n",
       "      <th>LIBP</th>\n",
       "      <th>LIPX</th>\n",
       "      <th>LICA</th>\n",
       "      <th>LICC</th>\n",
       "      <th>LIRN</th>\n",
       "      <th>LIPE</th>\n",
       "      <th>LIPY</th>\n",
       "    </tr>\n",
       "  </thead>\n",
       "  <tbody>\n",
       "    <tr>\n",
       "      <th>LIMC</th>\n",
       "      <td>0.000000</td>\n",
       "      <td>903.524942</td>\n",
       "      <td>95.968228</td>\n",
       "      <td>709.408865</td>\n",
       "      <td>281.967972</td>\n",
       "      <td>283.569923</td>\n",
       "      <td>527.556560</td>\n",
       "      <td>135.997095</td>\n",
       "      <td>563.086457</td>\n",
       "      <td>171.481258</td>\n",
       "      <td>969.824069</td>\n",
       "      <td>1049.253474</td>\n",
       "      <td>693.856843</td>\n",
       "      <td>235.838017</td>\n",
       "      <td>440.900626</td>\n",
       "    </tr>\n",
       "    <tr>\n",
       "      <th>LICJ</th>\n",
       "      <td>903.524942</td>\n",
       "      <td>0.000000</td>\n",
       "      <td>901.883665</td>\n",
       "      <td>370.482131</td>\n",
       "      <td>645.547025</td>\n",
       "      <td>816.388380</td>\n",
       "      <td>433.213355</td>\n",
       "      <td>774.872620</td>\n",
       "      <td>485.138921</td>\n",
       "      <td>822.689364</td>\n",
       "      <td>284.923029</td>\n",
       "      <td>190.037301</td>\n",
       "      <td>317.179906</td>\n",
       "      <td>722.376532</td>\n",
       "      <td>605.302194</td>\n",
       "    </tr>\n",
       "    <tr>\n",
       "      <th>LIMF</th>\n",
       "      <td>95.968228</td>\n",
       "      <td>901.883665</td>\n",
       "      <td>0.000000</td>\n",
       "      <td>671.609317</td>\n",
       "      <td>321.780985</td>\n",
       "      <td>369.379652</td>\n",
       "      <td>499.619078</td>\n",
       "      <td>134.708939</td>\n",
       "      <td>608.586693</td>\n",
       "      <td>254.747674</td>\n",
       "      <td>995.903938</td>\n",
       "      <td>1058.924225</td>\n",
       "      <td>722.018414</td>\n",
       "      <td>296.629053</td>\n",
       "      <td>498.529850</td>\n",
       "    </tr>\n",
       "    <tr>\n",
       "      <th>LIEE</th>\n",
       "      <td>709.408865</td>\n",
       "      <td>370.482131</td>\n",
       "      <td>671.609317</td>\n",
       "      <td>0.000000</td>\n",
       "      <td>537.226865</td>\n",
       "      <td>745.823971</td>\n",
       "      <td>188.972469</td>\n",
       "      <td>574.134662</td>\n",
       "      <td>561.752840</td>\n",
       "      <td>699.563756</td>\n",
       "      <td>621.451034</td>\n",
       "      <td>560.188705</td>\n",
       "      <td>480.709883</td>\n",
       "      <td>615.860714</td>\n",
       "      <td>611.286418</td>\n",
       "    </tr>\n",
       "    <tr>\n",
       "      <th>LIRQ</th>\n",
       "      <td>281.967972</td>\n",
       "      <td>645.547025</td>\n",
       "      <td>321.780985</td>\n",
       "      <td>537.226865</td>\n",
       "      <td>0.000000</td>\n",
       "      <td>209.225285</td>\n",
       "      <td>350.616247</td>\n",
       "      <td>192.503832</td>\n",
       "      <td>286.810469</td>\n",
       "      <td>178.199367</td>\n",
       "      <td>688.338876</td>\n",
       "      <td>776.641265</td>\n",
       "      <td>412.369247</td>\n",
       "      <td>81.115581</td>\n",
       "      <td>187.309894</td>\n",
       "    </tr>\n",
       "    <tr>\n",
       "      <th>LIPZ</th>\n",
       "      <td>283.569923</td>\n",
       "      <td>816.388380</td>\n",
       "      <td>369.379652</td>\n",
       "      <td>745.823971</td>\n",
       "      <td>209.225285</td>\n",
       "      <td>0.000000</td>\n",
       "      <td>559.807987</td>\n",
       "      <td>294.268005</td>\n",
       "      <td>369.615047</td>\n",
       "      <td>114.724366</td>\n",
       "      <td>800.252092</td>\n",
       "      <td>921.564342</td>\n",
       "      <td>537.042219</td>\n",
       "      <td>136.212707</td>\n",
       "      <td>229.161277</td>\n",
       "    </tr>\n",
       "    <tr>\n",
       "      <th>LIEO</th>\n",
       "      <td>527.556560</td>\n",
       "      <td>433.213355</td>\n",
       "      <td>499.619078</td>\n",
       "      <td>188.972469</td>\n",
       "      <td>350.616247</td>\n",
       "      <td>559.807987</td>\n",
       "      <td>0.000000</td>\n",
       "      <td>391.566316</td>\n",
       "      <td>427.556431</td>\n",
       "      <td>510.598572</td>\n",
       "      <td>616.838156</td>\n",
       "      <td>613.925708</td>\n",
       "      <td>402.364706</td>\n",
       "      <td>428.063258</td>\n",
       "      <td>446.436549</td>\n",
       "    </tr>\n",
       "    <tr>\n",
       "      <th>LIMJ</th>\n",
       "      <td>135.997095</td>\n",
       "      <td>774.872620</td>\n",
       "      <td>134.708939</td>\n",
       "      <td>574.134662</td>\n",
       "      <td>192.503832</td>\n",
       "      <td>294.268005</td>\n",
       "      <td>391.566316</td>\n",
       "      <td>0.000000</td>\n",
       "      <td>477.835406</td>\n",
       "      <td>188.162430</td>\n",
       "      <td>861.256968</td>\n",
       "      <td>927.407435</td>\n",
       "      <td>587.321416</td>\n",
       "      <td>186.660820</td>\n",
       "      <td>376.334373</td>\n",
       "    </tr>\n",
       "    <tr>\n",
       "      <th>LIBP</th>\n",
       "      <td>563.086457</td>\n",
       "      <td>485.138921</td>\n",
       "      <td>608.586693</td>\n",
       "      <td>561.752840</td>\n",
       "      <td>286.810469</td>\n",
       "      <td>369.615047</td>\n",
       "      <td>427.556431</td>\n",
       "      <td>477.835406</td>\n",
       "      <td>0.000000</td>\n",
       "      <td>421.158992</td>\n",
       "      <td>430.660933</td>\n",
       "      <td>560.053904</td>\n",
       "      <td>175.543070</td>\n",
       "      <td>329.990839</td>\n",
       "      <td>140.461363</td>\n",
       "    </tr>\n",
       "    <tr>\n",
       "      <th>LIPX</th>\n",
       "      <td>171.481258</td>\n",
       "      <td>822.689364</td>\n",
       "      <td>254.747674</td>\n",
       "      <td>699.563756</td>\n",
       "      <td>178.199367</td>\n",
       "      <td>114.724366</td>\n",
       "      <td>510.598572</td>\n",
       "      <td>188.162430</td>\n",
       "      <td>421.158992</td>\n",
       "      <td>0.000000</td>\n",
       "      <td>845.418184</td>\n",
       "      <td>947.536310</td>\n",
       "      <td>572.362657</td>\n",
       "      <td>100.703504</td>\n",
       "      <td>287.298800</td>\n",
       "    </tr>\n",
       "    <tr>\n",
       "      <th>LICA</th>\n",
       "      <td>969.824069</td>\n",
       "      <td>284.923029</td>\n",
       "      <td>995.903938</td>\n",
       "      <td>621.451034</td>\n",
       "      <td>688.338876</td>\n",
       "      <td>800.252092</td>\n",
       "      <td>616.838156</td>\n",
       "      <td>861.256968</td>\n",
       "      <td>430.660933</td>\n",
       "      <td>845.418184</td>\n",
       "      <td>0.000000</td>\n",
       "      <td>190.274072</td>\n",
       "      <td>275.989899</td>\n",
       "      <td>748.562166</td>\n",
       "      <td>571.119473</td>\n",
       "    </tr>\n",
       "    <tr>\n",
       "      <th>LICC</th>\n",
       "      <td>1049.253474</td>\n",
       "      <td>190.037301</td>\n",
       "      <td>1058.924225</td>\n",
       "      <td>560.188705</td>\n",
       "      <td>776.641265</td>\n",
       "      <td>921.564342</td>\n",
       "      <td>613.925708</td>\n",
       "      <td>927.407435</td>\n",
       "      <td>560.053904</td>\n",
       "      <td>947.536310</td>\n",
       "      <td>190.274072</td>\n",
       "      <td>0.000000</td>\n",
       "      <td>385.788112</td>\n",
       "      <td>847.196365</td>\n",
       "      <td>696.187610</td>\n",
       "    </tr>\n",
       "    <tr>\n",
       "      <th>LIRN</th>\n",
       "      <td>693.856843</td>\n",
       "      <td>317.179906</td>\n",
       "      <td>722.018414</td>\n",
       "      <td>480.709883</td>\n",
       "      <td>412.369247</td>\n",
       "      <td>537.042219</td>\n",
       "      <td>402.364706</td>\n",
       "      <td>587.321416</td>\n",
       "      <td>175.543070</td>\n",
       "      <td>572.362657</td>\n",
       "      <td>275.989899</td>\n",
       "      <td>385.788112</td>\n",
       "      <td>0.000000</td>\n",
       "      <td>474.155249</td>\n",
       "      <td>310.442531</td>\n",
       "    </tr>\n",
       "    <tr>\n",
       "      <th>LIPE</th>\n",
       "      <td>235.838017</td>\n",
       "      <td>722.376532</td>\n",
       "      <td>296.629053</td>\n",
       "      <td>615.860714</td>\n",
       "      <td>81.115581</td>\n",
       "      <td>136.212707</td>\n",
       "      <td>428.063258</td>\n",
       "      <td>186.660820</td>\n",
       "      <td>329.990839</td>\n",
       "      <td>100.703504</td>\n",
       "      <td>748.562166</td>\n",
       "      <td>847.196365</td>\n",
       "      <td>474.155249</td>\n",
       "      <td>0.000000</td>\n",
       "      <td>205.192751</td>\n",
       "    </tr>\n",
       "    <tr>\n",
       "      <th>LIPY</th>\n",
       "      <td>440.900626</td>\n",
       "      <td>605.302194</td>\n",
       "      <td>498.529850</td>\n",
       "      <td>611.286418</td>\n",
       "      <td>187.309894</td>\n",
       "      <td>229.161277</td>\n",
       "      <td>446.436549</td>\n",
       "      <td>376.334373</td>\n",
       "      <td>140.461363</td>\n",
       "      <td>287.298800</td>\n",
       "      <td>571.119473</td>\n",
       "      <td>696.187610</td>\n",
       "      <td>310.442531</td>\n",
       "      <td>205.192751</td>\n",
       "      <td>0.000000</td>\n",
       "    </tr>\n",
       "  </tbody>\n",
       "</table>\n",
       "</div>"
      ],
      "text/plain": [
       "             LIMC        LICJ         LIMF        LIEE        LIRQ  \\\n",
       "LIMC     0.000000  903.524942    95.968228  709.408865  281.967972   \n",
       "LICJ   903.524942    0.000000   901.883665  370.482131  645.547025   \n",
       "LIMF    95.968228  901.883665     0.000000  671.609317  321.780985   \n",
       "LIEE   709.408865  370.482131   671.609317    0.000000  537.226865   \n",
       "LIRQ   281.967972  645.547025   321.780985  537.226865    0.000000   \n",
       "LIPZ   283.569923  816.388380   369.379652  745.823971  209.225285   \n",
       "LIEO   527.556560  433.213355   499.619078  188.972469  350.616247   \n",
       "LIMJ   135.997095  774.872620   134.708939  574.134662  192.503832   \n",
       "LIBP   563.086457  485.138921   608.586693  561.752840  286.810469   \n",
       "LIPX   171.481258  822.689364   254.747674  699.563756  178.199367   \n",
       "LICA   969.824069  284.923029   995.903938  621.451034  688.338876   \n",
       "LICC  1049.253474  190.037301  1058.924225  560.188705  776.641265   \n",
       "LIRN   693.856843  317.179906   722.018414  480.709883  412.369247   \n",
       "LIPE   235.838017  722.376532   296.629053  615.860714   81.115581   \n",
       "LIPY   440.900626  605.302194   498.529850  611.286418  187.309894   \n",
       "\n",
       "            LIPZ        LIEO        LIMJ        LIBP        LIPX        LICA  \\\n",
       "LIMC  283.569923  527.556560  135.997095  563.086457  171.481258  969.824069   \n",
       "LICJ  816.388380  433.213355  774.872620  485.138921  822.689364  284.923029   \n",
       "LIMF  369.379652  499.619078  134.708939  608.586693  254.747674  995.903938   \n",
       "LIEE  745.823971  188.972469  574.134662  561.752840  699.563756  621.451034   \n",
       "LIRQ  209.225285  350.616247  192.503832  286.810469  178.199367  688.338876   \n",
       "LIPZ    0.000000  559.807987  294.268005  369.615047  114.724366  800.252092   \n",
       "LIEO  559.807987    0.000000  391.566316  427.556431  510.598572  616.838156   \n",
       "LIMJ  294.268005  391.566316    0.000000  477.835406  188.162430  861.256968   \n",
       "LIBP  369.615047  427.556431  477.835406    0.000000  421.158992  430.660933   \n",
       "LIPX  114.724366  510.598572  188.162430  421.158992    0.000000  845.418184   \n",
       "LICA  800.252092  616.838156  861.256968  430.660933  845.418184    0.000000   \n",
       "LICC  921.564342  613.925708  927.407435  560.053904  947.536310  190.274072   \n",
       "LIRN  537.042219  402.364706  587.321416  175.543070  572.362657  275.989899   \n",
       "LIPE  136.212707  428.063258  186.660820  329.990839  100.703504  748.562166   \n",
       "LIPY  229.161277  446.436549  376.334373  140.461363  287.298800  571.119473   \n",
       "\n",
       "             LICC        LIRN        LIPE        LIPY  \n",
       "LIMC  1049.253474  693.856843  235.838017  440.900626  \n",
       "LICJ   190.037301  317.179906  722.376532  605.302194  \n",
       "LIMF  1058.924225  722.018414  296.629053  498.529850  \n",
       "LIEE   560.188705  480.709883  615.860714  611.286418  \n",
       "LIRQ   776.641265  412.369247   81.115581  187.309894  \n",
       "LIPZ   921.564342  537.042219  136.212707  229.161277  \n",
       "LIEO   613.925708  402.364706  428.063258  446.436549  \n",
       "LIMJ   927.407435  587.321416  186.660820  376.334373  \n",
       "LIBP   560.053904  175.543070  329.990839  140.461363  \n",
       "LIPX   947.536310  572.362657  100.703504  287.298800  \n",
       "LICA   190.274072  275.989899  748.562166  571.119473  \n",
       "LICC     0.000000  385.788112  847.196365  696.187610  \n",
       "LIRN   385.788112    0.000000  474.155249  310.442531  \n",
       "LIPE   847.196365  474.155249    0.000000  205.192751  \n",
       "LIPY   696.187610  310.442531  205.192751    0.000000  "
      ]
     },
     "execution_count": 49,
     "metadata": {},
     "output_type": "execute_result"
    }
   ],
   "source": [
    "distance_data"
   ]
  },
  {
   "cell_type": "markdown",
   "metadata": {},
   "source": [
    "***"
   ]
  },
  {
   "cell_type": "markdown",
   "metadata": {},
   "source": [
    "## Example Gurobi network model"
   ]
  },
  {
   "cell_type": "markdown",
   "metadata": {},
   "source": [
    "Below is an example network model solved using Gurobi. The first cell contains the data of the network, which contains three airports. The goal is to find the frequencies to fly between the destinations for which the airline makes the largest profit.\n",
    "\n",
    "__Sets__\n",
    "* N: the set of airports\n",
    "\n",
    "__Parameters__\n",
    "* $q_{ij}$: traffic demand between airport i to airport j\n",
    "* $d_{ij}$: distance between airports i and j\n",
    "* Yield: revenue per RPK flown (average yield)\n",
    "* s: number of seats per aircraft\n",
    "* CASK: unit operation cost per ASK flown\n",
    "* sp: speed of the aircraft\n",
    "* LF: average load factor\n",
    "* AC: number of aircraft\n",
    "* LTO: extra landing and take-off time\n",
    "* BT: aircraft avg. utilisation time"
   ]
  },
  {
   "cell_type": "code",
   "execution_count": 50,
   "metadata": {},
   "outputs": [],
   "source": [
    "# Data\n",
    "Airports = ['A1','A2','A3']\n",
    "N = range(len(Airports))\n",
    "CASK = 0.12\n",
    "LF = 0.75\n",
    "s = 120\n",
    "sp = 870\n",
    "LTO = 20/60\n",
    "BT = 10\n",
    "AC = 2\n",
    "y = 0.18  # yield\n",
    "q = [[0, 1000, 200],\n",
    "          [1000, 0, 300],\n",
    "          [200, 300, 0]]\n",
    "distance = [[0, 2236, 3201],\n",
    "          [2236, 0, 3500],\n",
    "          [3201, 3500, 0]]"
   ]
  },
  {
   "cell_type": "markdown",
   "metadata": {},
   "source": [
    "In the following cell the variables, objective function and constraints of the problem are defined.\n",
    "\n",
    "__Decision variables__\n",
    "* $z_{ij}$ : number of flights from airport i to airport j\n",
    "* $x_{ij}$ : flow from airport i to airport j\n",
    "\n",
    "__Objective function__\n",
    "* max profit $ = \\sum_{i \\in N} \\sum_{j \\in N} (Yield * d_{ij} * x_{ij} - CASK * d_{ij} * s * z_{ij})$\n",
    "\n",
    "__Constraints__\n",
    "* $x_{ij} \\leq q_{ij} \\quad \\forall i,j \\in N$\n",
    "* $x_{ij} \\leq z_{ij} * s * LF \\quad \\forall i,j \\in N$\n",
    "* $\\sum_{j \\in N} z_{ij} = \\sum_{j \\in N} z_{ji} \\quad \\forall i \\in N$\n",
    "* $\\sum_{i \\in N} \\sum_{j \\in N} (\\frac{d_{ij}}{sp} + LTO) * z_{ij} \\leq BT * AC$"
   ]
  },
  {
   "cell_type": "code",
   "execution_count": 51,
   "metadata": {},
   "outputs": [
    {
     "data": {
      "text/plain": [
       "<gurobi.Constr *Awaiting Model Update*>"
      ]
     },
     "execution_count": 51,
     "metadata": {},
     "output_type": "execute_result"
    }
   ],
   "source": [
    "# Start modelling optimization problem\n",
    "m = Model('practice')\n",
    "\n",
    "# Variables\n",
    "x = {}\n",
    "z = {}\n",
    "for i in N:\n",
    "    for j in N:\n",
    "        x[i,j] = m.addVar(obj = y*distance[i][j],lb=0,\n",
    "                           vtype=GRB.INTEGER)\n",
    "        z[i,j] = m.addVar(obj = -CASK*distance[i][j]*s, lb=0,\n",
    "                           vtype=GRB.INTEGER)\n",
    "        \n",
    "# if you prefer to separate the definition of decision variables and objective function you can do so as follows. \n",
    "    # A = [(i, j) for j in N for i in N]\n",
    "    # VARIABLES\n",
    "        # x = m.addVars(A, vtype=GRB.INTEGER, lb=0)\n",
    "        # z = m.addVars(A, vtype=GRB.INTEGER, lb=0)\n",
    "    # OBJECTIVE FUNCTION\n",
    "        # obj = quicksum(y*distance[i][j]*x[i,j] for i, j in A) - quicksum(CASK*distance[i][j]*s*z[i,j] for i, j in A)\n",
    "        # m.setObjective(obj)\n",
    "    \n",
    "m.update()\n",
    "m.setObjective(m.getObjective(), GRB.MAXIMIZE)  # The objective is to maximize revenue\n",
    "\n",
    "# Constraints\n",
    "# there are multiple ways to implement and name constraints:\n",
    "    # E.g. 1) Add constraint: x + y >= 1\n",
    "        # m.addConstr(x + y >= 1, \"NameOfConstraints_%i_%s\" %(j, \"string\"))\n",
    "    # E.g. 2)\n",
    "        # m.addConstr(lhs= , GRB.EQUAL, rhs= , name=\"NameOfConstraints_%i_%s\" %(j, \"string\"))\n",
    "    # E.g. 3) If you know that the constraint is linear you can declare it with the following\n",
    "    # nomenclature to reduce the calculation time up to 50%:\n",
    "        # m.addLConstr()\n",
    "for i in N:\n",
    "    for j in N:\n",
    "        m.addConstr(x[i,j], GRB.LESS_EQUAL, q[i][j]) #C1\n",
    "        m.addConstr(x[i,j], GRB.LESS_EQUAL, z[i,j]*s*LF) #C2\n",
    "    m.addConstr(quicksum(z[i,j] for j in N), GRB.EQUAL, quicksum(z[j, i] for j in N)) #C3\n",
    "\n",
    "m.addConstr(quicksum(quicksum((distance[i][j]/sp+LTO)*z[i,j] for i in N) for j in N),\n",
    "            GRB.LESS_EQUAL, BT*AC) #C4"
   ]
  },
  {
   "cell_type": "markdown",
   "metadata": {},
   "source": [
    "Then, the problem can be optimized. For larger models it is possible to set a time constraint."
   ]
  },
  {
   "cell_type": "code",
   "execution_count": 52,
   "metadata": {},
   "outputs": [
    {
     "name": "stdout",
     "output_type": "stream",
     "text": [
      "Gurobi Optimizer version 9.5.0 build v9.5.0rc5 (win64)\n",
      "Thread count: 4 physical cores, 8 logical processors, using up to 8 threads\n",
      "Optimize a model with 22 rows, 18 columns and 48 nonzeros\n",
      "Model fingerprint: 0x037a8259\n",
      "Variable types: 0 continuous, 18 integer (0 binary)\n",
      "Coefficient statistics:\n",
      "  Matrix range     [3e-01, 9e+01]\n",
      "  Objective range  [4e+02, 5e+04]\n",
      "  Bounds range     [0e+00, 0e+00]\n",
      "  RHS range        [2e+01, 1e+03]\n",
      "Found heuristic solution: objective -0.0000000\n",
      "Presolve removed 16 rows and 10 columns\n",
      "Presolve time: 0.00s\n",
      "Presolved: 6 rows, 8 columns, 20 nonzeros\n",
      "Variable types: 0 continuous, 8 integer (0 binary)\n",
      "Found heuristic solution: objective 16099.200000\n",
      "\n",
      "Root relaxation: objective 2.892348e+04, 4 iterations, 0.00 seconds (0.00 work units)\n",
      "\n",
      "    Nodes    |    Current Node    |     Objective Bounds      |     Work\n",
      " Expl Unexpl |  Obj  Depth IntInf | Incumbent    BestBd   Gap | It/Node Time\n",
      "\n",
      "     0     0 28923.4828    0    3 16099.2000 28923.4828  79.7%     -    0s\n",
      "H    0     0                    25200.000000 28923.4828  14.8%     -    0s\n",
      "H    0     0                    28686.600000 28707.5979  0.07%     -    0s\n",
      "     0     0 28707.5979    0    7 28686.6000 28707.5979  0.07%     -    0s\n",
      "\n",
      "Cutting planes:\n",
      "  Gomory: 1\n",
      "  MIR: 5\n",
      "\n",
      "Explored 1 nodes (8 simplex iterations) in 0.03 seconds (0.00 work units)\n",
      "Thread count was 8 (of 8 available processors)\n",
      "\n",
      "Solution count 4: 28686.6 25200 16099.2 -0 \n",
      "\n",
      "Optimal solution found (tolerance 1.00e-04)\n",
      "Best objective 2.868660000000e+04, best bound 2.868660000000e+04, gap 0.0000%\n",
      "***** RESULTS ******\n",
      "\n",
      "Objective Function Value: \t 28686.6\n"
     ]
    }
   ],
   "source": [
    "m.update()\n",
    "# m.write('test.lp')\n",
    "# Set time constraint for optimization (5minutes)\n",
    "# m.setParam('TimeLimit', 5 * 60)\n",
    "# Set gap constraint for optimisation\n",
    "# m.setParam('MIPgap', 0.0003)\n",
    "\n",
    "m.optimize()\n",
    "# m.write(\"testout.sol\")\n",
    "status = m.status\n",
    "\n",
    "if status == GRB.Status.UNBOUNDED:\n",
    "    print('The model cannot be solved because it is unbounded')\n",
    "\n",
    "elif status == GRB.Status.OPTIMAL or True:\n",
    "    f_objective = m.objVal\n",
    "    print('***** RESULTS ******')\n",
    "    print('\\nObjective Function Value: \\t %g' % f_objective)\n",
    "\n",
    "elif status != GRB.Status.INF_OR_UNBD and status != GRB.Status.INFEASIBLE:\n",
    "    print('Optimization was stopped with status %d' % status)"
   ]
  },
  {
   "cell_type": "markdown",
   "metadata": {},
   "source": [
    "Run the following code to print out the solutions."
   ]
  },
  {
   "cell_type": "code",
   "execution_count": 39,
   "metadata": {},
   "outputs": [
    {
     "name": "stdout",
     "output_type": "stream",
     "text": [
      "\n",
      "Frequencies:----------------------------------\n",
      "\n",
      "A1  to  A2 1.0\n",
      "A2  to  A3 2.0\n",
      "A3  to  A1 1.0\n",
      "A3  to  A2 1.0\n"
     ]
    }
   ],
   "source": [
    "# Print out solutions\n",
    "print()\n",
    "print(\"Frequencies:----------------------------------\")\n",
    "print()\n",
    "for i in N:\n",
    "    for j in N:\n",
    "        if z[i,j].X >0:\n",
    "            print(Airports[i], ' to ', Airports[j], z[i,j].X)"
   ]
  }
 ],
 "metadata": {
  "colab": {
   "provenance": []
  },
  "kernelspec": {
   "display_name": "Python 3",
   "language": "python",
   "name": "python3"
  },
  "language_info": {
   "codemirror_mode": {
    "name": "ipython",
    "version": 3
   },
   "file_extension": ".py",
   "mimetype": "text/x-python",
   "name": "python",
   "nbconvert_exporter": "python",
   "pygments_lexer": "ipython3",
   "version": "3.8.8"
  }
 },
 "nbformat": 4,
 "nbformat_minor": 4
}
